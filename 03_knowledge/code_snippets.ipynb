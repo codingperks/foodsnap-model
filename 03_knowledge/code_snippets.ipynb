{
 "cells": [
  {
   "cell_type": "code",
   "execution_count": 5,
   "id": "015f800c-30ad-4fc0-abcd-9cb5287041ad",
   "metadata": {},
   "outputs": [
    {
     "name": "stderr",
     "output_type": "stream",
     "text": [
      "Ultralytics YOLOv8.0.30  Python-3.10.8 torch-1.13.1+cpu CPU\n",
      "Model summary (fused): 168 layers, 11126745 parameters, 0 gradients, 28.4 GFLOPs\n",
      "\n",
      "image 1/1 C:\\Users\\Jan Peter\\OneDrive\\Code\\yolo\\manual_test_data\\omelette_1.jpeg: 480x640 1 omelette, 2 plates, 407.2ms\n",
      "Speed: 2.0ms pre-process, 407.2ms inference, 0.9ms postprocess per image at shape (1, 3, 640, 640)\n"
     ]
    },
    {
     "data": {
      "text/plain": [
       "{0: 'Bowl', 1: 'omelette', 2: 'plate'}"
      ]
     },
     "execution_count": 5,
     "metadata": {},
     "output_type": "execute_result"
    }
   ],
   "source": [
    "## Class labels in default model\n",
    "from ultralytics import YOLO\n",
    "model = YOLO(\"8-epoch-omelette.pt\")\n",
    "results = model.predict(source=\"./manual_test_data/omelette_1.jpeg\")\n",
    "model.names"
   ]
  },
  {
   "cell_type": "code",
   "execution_count": 6,
   "id": "a65a7aff-b683-4588-a8f9-630ce749c047",
   "metadata": {},
   "outputs": [
    {
     "name": "stderr",
     "output_type": "stream",
     "text": [
      "Ultralytics YOLOv8.0.30  Python-3.10.8 torch-1.13.1+cpu CPU\n",
      "YOLOv8n summary (fused): 168 layers, 3151904 parameters, 0 gradients, 8.7 GFLOPs\n",
      "\n",
      "image 1/1 C:\\Users\\Jan Peter\\OneDrive\\Code\\yolo\\manual_test_data\\omelette_1.jpeg: 480x640 1 pizza, 205.0ms\n",
      "Speed: 1.6ms pre-process, 205.0ms inference, 5.0ms postprocess per image at shape (1, 3, 640, 640)\n",
      "Results saved to \u001b[1mruns\\detect\\predict5\u001b[0m\n"
     ]
    }
   ],
   "source": [
    "#detection of pre-specified classes\n",
    "from ultralytics import YOLO\n",
    "model = YOLO(\"yolov8n.pt\")\n",
    "results = model.predict(source=\"./manual_test_data/omelette_1.jpeg\", classes=[45, 46, 47, 48, 49, 51, 52, 53, 54, 55], save=True)"
   ]
  },
  {
   "cell_type": "code",
   "execution_count": 7,
   "id": "fa30a2aa-fe4f-4df2-a8f5-67f298943cf6",
   "metadata": {},
   "outputs": [
    {
     "data": {
      "text/plain": [
       "\"\\nWhat is needed to train custom the data?\\n### Part 1 - yaml file with the following structure and information\\n\\npath: ./food-data.yaml/\\ntrain: 'train/images'\\nval: 'valid/images'\\n \\n# class names\\nnames: \\n  0: 'apple', 1: 'banana', 2: ...\\n  \\n### Part 2 - folder structure\\n├── data\\n## └── train\\n####└── images (folder including all training images)\\n####└── labels (folder including all training labels)\\n## └── test\\n####└── images (folder including all testing images)\\n####└── labels (folder including all testing labels)\\n## └── valid\\n####└── images (folder including all valid images)\\n####└── labels (folder including all valid labels)\\n\\n\\n### Part 3 - txt file with following data\\nLabels: Class label, X_Center, Y_Center, Width, Height\\nExample: [0 0.484167 0.222500 0.275000 0.351667]\\n\\nthis could be donw with roboflow or with labelimg both quite time consuming\\n\""
      ]
     },
     "execution_count": 7,
     "metadata": {},
     "output_type": "execute_result"
    }
   ],
   "source": [
    "'''\n",
    "What is needed to train custom the data?\n",
    "### Part 1 - yaml file with the following structure and information\n",
    "\n",
    "path: ./food-data.yaml/\n",
    "train: 'train/images'\n",
    "val: 'valid/images'\n",
    " \n",
    "# class names\n",
    "names: \n",
    "  0: 'apple', 1: 'banana', 2: ...\n",
    "  \n",
    "### Part 2 - folder structure\n",
    "├── data\n",
    "## └── train\n",
    "####└── images (folder including all training images)\n",
    "####└── labels (folder including all training labels)\n",
    "## └── test\n",
    "####└── images (folder including all testing images)\n",
    "####└── labels (folder including all testing labels)\n",
    "## └── valid\n",
    "####└── images (folder including all valid images)\n",
    "####└── labels (folder including all valid labels)\n",
    "\n",
    "\n",
    "### Part 3 - txt file with following data\n",
    "Labels: Class label, X_Center, Y_Center, Width, Height\n",
    "Example: [0 0.484167 0.222500 0.275000 0.351667]\n",
    "\n",
    "this could be donw with roboflow or with labelimg both quite time consuming\n",
    "'''"
   ]
  },
  {
   "cell_type": "code",
   "execution_count": 15,
   "id": "2283489d",
   "metadata": {},
   "outputs": [
    {
     "name": "stderr",
     "output_type": "stream",
     "text": [
      "Ultralytics YOLOv8.0.30  Python-3.10.8 torch-1.13.1+cpu CPU\n",
      "YOLOv8l summary (fused): 268 layers, 43668288 parameters, 0 gradients, 165.2 GFLOPs\n",
      "\n",
      "image 1/1 C:\\Users\\Jan Peter\\OneDrive\\Code\\yolo\\manual_test_data\\omelette_1.jpeg: 480x640 1 broccoli, 1580.1ms\n",
      "Speed: 1.6ms pre-process, 1580.1ms inference, 2.4ms postprocess per image at shape (1, 3, 640, 640)\n"
     ]
    },
    {
     "name": "stdout",
     "output_type": "stream",
     "text": [
      "The task took 2.84  seconds\n"
     ]
    }
   ],
   "source": [
    "#measuring of time to predict\n",
    "from ultralytics import YOLO\n",
    "import time\n",
    "\n",
    "model = YOLO(\"yolov8l.pt\")\n",
    "time_start = time.perf_counter()\n",
    "results = model.predict(source=\"./manual_test_data/omelette_1.jpeg\")\n",
    "time_elapsed = (time.perf_counter() - time_start)\n",
    "print(\"The task took\", round(time_elapsed, 2), \" seconds\")\n",
    "\n",
    "#results in seconds (local machine)\n",
    "#nano: 0.46\n",
    "#small: 0.87\n",
    "#medium: 1.82\n",
    "#large: 2.84\n",
    "#xl: 4.13"
   ]
  }
 ],
 "metadata": {
  "environment": {
   "kernel": "python3",
   "name": "pytorch-gpu.1-13.m103",
   "type": "gcloud",
   "uri": "gcr.io/deeplearning-platform-release/pytorch-gpu.1-13:m103"
  },
  "kernelspec": {
   "display_name": "Python 3",
   "language": "python",
   "name": "python3"
  },
  "language_info": {
   "codemirror_mode": {
    "name": "ipython",
    "version": 3
   },
   "file_extension": ".py",
   "mimetype": "text/x-python",
   "name": "python",
   "nbconvert_exporter": "python",
   "pygments_lexer": "ipython3",
   "version": "3.10.8"
  },
  "vscode": {
   "interpreter": {
    "hash": "f90c6fdffd3857f59eaf8bbf91c717032204bda658957ce3e390c08fe4c07aee"
   }
  }
 },
 "nbformat": 4,
 "nbformat_minor": 5
}
